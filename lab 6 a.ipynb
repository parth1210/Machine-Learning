{
 "cells": [
  {
   "cell_type": "code",
   "execution_count": 2,
   "metadata": {},
   "outputs": [],
   "source": [
    "import numpy as np # linear algebra\n",
    "import pandas as pd # data processing, CSV file I/O (e.g. pd.read_csv)\n",
    "import seaborn as sns\n",
    "import matplotlib.pyplot as plt #matlab plots\n",
    "%matplotlib inline"
   ]
  },
  {
   "cell_type": "code",
   "execution_count": 3,
   "metadata": {},
   "outputs": [],
   "source": [
    "from sklearn.neighbors import KNeighborsClassifier\n",
    "from sklearn.ensemble import VotingClassifier\n",
    "from sklearn.linear_model import LogisticRegression\n",
    "from sklearn.svm import SVC\n",
    "from sklearn.model_selection import train_test_split\n",
    "from sklearn.tree import DecisionTreeClassifier"
   ]
  },
  {
   "cell_type": "code",
   "execution_count": 4,
   "metadata": {},
   "outputs": [],
   "source": [
    "df= pd.read_csv(r'C:\\Users\\User\\Downloads\\part_a.csv')"
   ]
  },
  {
   "cell_type": "code",
   "execution_count": 5,
   "metadata": {},
   "outputs": [],
   "source": [
    "X = df.drop(['grade'],axis=1, inplace=False)\n",
    "y = df['grade']"
   ]
  },
  {
   "cell_type": "code",
   "execution_count": 6,
   "metadata": {},
   "outputs": [],
   "source": [
    "from sklearn.model_selection import train_test_split\n",
    "\n",
    "X_train_org, X_test_org, y_train, y_test = train_test_split(X,y,random_state=0)"
   ]
  },
  {
   "cell_type": "code",
   "execution_count": 7,
   "metadata": {},
   "outputs": [
    {
     "name": "stdout",
     "output_type": "stream",
     "text": [
      "X_train shape is (296, 43)\n",
      "X_test shape is (99, 43)\n",
      "y_train shape is (296,)\n",
      "y_test shape is (99,)\n"
     ]
    }
   ],
   "source": [
    "print('X_train shape is', X_train_org.shape)\n",
    "print('X_test shape is', X_test_org.shape)\n",
    "print('y_train shape is', y_train.shape)\n",
    "print('y_test shape is', y_test.shape)"
   ]
  },
  {
   "cell_type": "code",
   "execution_count": 8,
   "metadata": {},
   "outputs": [],
   "source": [
    "from sklearn.preprocessing import MinMaxScaler\n",
    "\n",
    "scaler = MinMaxScaler()\n",
    "X_train = scaler.fit_transform(X_train_org)\n",
    "X_test = scaler.transform(X_test_org)\n"
   ]
  },
  {
   "cell_type": "code",
   "execution_count": 30,
   "metadata": {},
   "outputs": [
    {
     "name": "stdout",
     "output_type": "stream",
     "text": [
      "Test scores: 0.3434\n"
     ]
    }
   ],
   "source": [
    "svc_clf = SVC(random_state=0,kernel = 'linear',C = 10,probability=True)\n",
    "svc_clf.fit(X_train, y_train)\n",
    "\n",
    "log_clf = LogisticRegression(random_state=0,solver = 'lbfgs',max_iter=1000,multi_class='auto')\n",
    "log_clf.fit(X_train, y_train)\n",
    "\n",
    "dtree_model=DecisionTreeClassifier(random_state=0,max_depth = 2) \n",
    "dtree_model.fit(X_train,y_train)\n",
    "\n",
    "voting_clf = VotingClassifier(estimators=[('svc', svc_clf), ('Dtree', dtree_model),('lr', log_clf)], voting='hard')\n",
    "voting_clf.fit(X_train, y_train)\n",
    "y_pred = voting_clf.predict(X_test)\n",
    "print(\"Test scores: {:.4f}\".format(accuracy_score(y_test, y_pred)))"
   ]
  },
  {
   "cell_type": "code",
   "execution_count": 32,
   "metadata": {},
   "outputs": [
    {
     "name": "stdout",
     "output_type": "stream",
     "text": [
      "0.43434343434343436\n"
     ]
    }
   ],
   "source": [
    "from sklearn.metrics import accuracy_score\n",
    "log_clf = LogisticRegression(random_state=0,solver = 'lbfgs',max_iter=1000,multi_class='auto')\n",
    "log_clf.fit(X_train, y_train)\n",
    "svm_clf = SVC(random_state=0,kernel = 'linear',C = 10,probability=True)\n",
    "svm_clf.fit(X_train, y_train)\n",
    "dtree_model=DecisionTreeClassifier(random_state=0,max_depth = 2) \n",
    "dtree_model.fit(X_train,y_train)\n",
    "\n",
    "voting_clf = VotingClassifier(estimators=[('lr', log_clf), ('Dtree', dtree_model), ('svc', svm_clf)],voting='soft')\n",
    "voting_clf.fit(X_train, y_train)\n",
    "\n",
    "y_pred = voting_clf.predict(X_test)\n",
    "print(accuracy_score(y_test, y_pred))"
   ]
  },
  {
   "cell_type": "code",
   "execution_count": 14,
   "metadata": {},
   "outputs": [
    {
     "data": {
      "text/plain": [
       "GridSearchCV(cv=5, error_score='raise-deprecating',\n",
       "             estimator=BaggingClassifier(base_estimator=DecisionTreeClassifier(class_weight=None,\n",
       "                                                                               criterion='gini',\n",
       "                                                                               max_depth=2,\n",
       "                                                                               max_features=None,\n",
       "                                                                               max_leaf_nodes=None,\n",
       "                                                                               min_impurity_decrease=0.0,\n",
       "                                                                               min_impurity_split=None,\n",
       "                                                                               min_samples_leaf=1,\n",
       "                                                                               min_samples_split=2,\n",
       "                                                                               min_weight_fraction_leaf=0.0,\n",
       "                                                                               presort=False,\n",
       "                                                                               random_state=0,\n",
       "                                                                               sp...\n",
       "                                         bootstrap=True,\n",
       "                                         bootstrap_features=False,\n",
       "                                         max_features=1.0, max_samples=1.0,\n",
       "                                         n_estimators=10, n_jobs=None,\n",
       "                                         oob_score=False, random_state=0,\n",
       "                                         verbose=0, warm_start=False),\n",
       "             iid=False, n_jobs=None,\n",
       "             param_grid={'max_features': [2, 5, 10],\n",
       "                         'max_samples': [0.1, 0.5, 1],\n",
       "                         'n_estimators': [100, 200, 300, 500]},\n",
       "             pre_dispatch='2*n_jobs', refit=True, return_train_score=False,\n",
       "             scoring=None, verbose=0)"
      ]
     },
     "execution_count": 14,
     "metadata": {},
     "output_type": "execute_result"
    }
   ],
   "source": [
    "from sklearn.model_selection import GridSearchCV\n",
    "from sklearn.ensemble import BaggingClassifier\n",
    "param_grid = {\n",
    "    'max_samples':[0.1, 0.5, 1],\n",
    "    'max_features': [2, 5, 10],\n",
    "    'n_estimators':[100, 200, 300, 500]\n",
    "}\n",
    "\n",
    "clf = GridSearchCV(BaggingClassifier(DecisionTreeClassifier(max_depth = 2,random_state=0),random_state=0),param_grid,iid=False,cv=5)\n",
    "clf.fit(X_train, y_train)"
   ]
  },
  {
   "cell_type": "code",
   "execution_count": 15,
   "metadata": {},
   "outputs": [
    {
     "name": "stdout",
     "output_type": "stream",
     "text": [
      "\n",
      " The best parameters across ALL searched params:\n",
      " {'max_features': 2, 'max_samples': 0.1, 'n_estimators': 100}\n"
     ]
    }
   ],
   "source": [
    " print(\"\\n The best parameters across ALL searched params:\\n\",\n",
    "          clf.best_params_)"
   ]
  },
  {
   "cell_type": "code",
   "execution_count": 16,
   "metadata": {},
   "outputs": [
    {
     "name": "stdout",
     "output_type": "stream",
     "text": [
      "The best parameters across ALL searched params: 0.4292\n"
     ]
    }
   ],
   "source": [
    "\n",
    " print(\"The best parameters across ALL searched params: {:.4f}\".format\n",
    "         (clf.best_score_))"
   ]
  },
  {
   "cell_type": "code",
   "execution_count": 17,
   "metadata": {},
   "outputs": [
    {
     "name": "stderr",
     "output_type": "stream",
     "text": [
      "C:\\Users\\User\\Anaconda3\\lib\\site-packages\\sklearn\\model_selection\\_search.py:814: DeprecationWarning: The default of the `iid` parameter will change from True to False in version 0.22 and will be removed in 0.24. This will change numeric results when test-set sizes are unequal.\n",
      "  DeprecationWarning)\n"
     ]
    },
    {
     "data": {
      "text/plain": [
       "GridSearchCV(cv=5, error_score='raise-deprecating',\n",
       "             estimator=GradientBoostingClassifier(criterion='friedman_mse',\n",
       "                                                  init=None, learning_rate=0.1,\n",
       "                                                  loss='deviance', max_depth=3,\n",
       "                                                  max_features=None,\n",
       "                                                  max_leaf_nodes=None,\n",
       "                                                  min_impurity_decrease=0.0,\n",
       "                                                  min_impurity_split=None,\n",
       "                                                  min_samples_leaf=1,\n",
       "                                                  min_samples_split=2,\n",
       "                                                  min_weight_fraction_leaf=0.0,\n",
       "                                                  n_estimators=100,\n",
       "                                                  n_iter_no_change=None,\n",
       "                                                  presort='auto',\n",
       "                                                  random_state=0, subsample=1.0,\n",
       "                                                  tol=0.0001,\n",
       "                                                  validation_fraction=0.1,\n",
       "                                                  verbose=0, warm_start=False),\n",
       "             iid='warn', n_jobs=None,\n",
       "             param_grid={'learning_rate': [0.1, 0.25, 0.5, 0.75, 1],\n",
       "                         'max_features': [2, 5, 10, 20],\n",
       "                         'n_estimators': [50, 100, 200, 500]},\n",
       "             pre_dispatch='2*n_jobs', refit=True, return_train_score=False,\n",
       "             scoring=None, verbose=0)"
      ]
     },
     "execution_count": 17,
     "metadata": {},
     "output_type": "execute_result"
    }
   ],
   "source": [
    "from sklearn.ensemble import GradientBoostingClassifier\n",
    "param_grid = {\n",
    "    'n_estimators': [50, 100, 200, 500],\n",
    "    'learning_rate':[0.1, 0.25, 0.5, 0.75, 1],\n",
    "    'max_features':[2, 5, 10, 20]\n",
    "}\n",
    "\n",
    "gd_clf = GridSearchCV(GradientBoostingClassifier(random_state=0),param_grid,cv=5)\n",
    "gd_clf.fit(X_train, y_train)"
   ]
  },
  {
   "cell_type": "code",
   "execution_count": 18,
   "metadata": {},
   "outputs": [
    {
     "name": "stdout",
     "output_type": "stream",
     "text": [
      "\n",
      " The best parameters across ALL searched params:\n",
      " {'learning_rate': 0.1, 'max_features': 2, 'n_estimators': 50}\n",
      "\n",
      " The best parameters across ALL searched params:\n",
      " 0.4560810810810811\n"
     ]
    }
   ],
   "source": [
    "print(\"\\n The best parameters across ALL searched params:\\n\",\n",
    "          gd_clf.best_params_)\n",
    "print(\"\\n The best parameters across ALL searched params:\\n\",\n",
    "          gd_clf.best_score_)"
   ]
  },
  {
   "cell_type": "code",
   "execution_count": 19,
   "metadata": {},
   "outputs": [],
   "source": [
    "gd_clf = GradientBoostingClassifier(learning_rate= 0.1,max_features=2,n_estimators=50,random_state=0)"
   ]
  },
  {
   "cell_type": "code",
   "execution_count": 20,
   "metadata": {},
   "outputs": [
    {
     "data": {
      "text/plain": [
       "GradientBoostingClassifier(criterion='friedman_mse', init=None,\n",
       "                           learning_rate=0.1, loss='deviance', max_depth=3,\n",
       "                           max_features=2, max_leaf_nodes=None,\n",
       "                           min_impurity_decrease=0.0, min_impurity_split=None,\n",
       "                           min_samples_leaf=1, min_samples_split=2,\n",
       "                           min_weight_fraction_leaf=0.0, n_estimators=50,\n",
       "                           n_iter_no_change=None, presort='auto',\n",
       "                           random_state=0, subsample=1.0, tol=0.0001,\n",
       "                           validation_fraction=0.1, verbose=0,\n",
       "                           warm_start=False)"
      ]
     },
     "execution_count": 20,
     "metadata": {},
     "output_type": "execute_result"
    }
   ],
   "source": [
    "gd_clf.fit(X_train, y_train)"
   ]
  },
  {
   "cell_type": "code",
   "execution_count": 21,
   "metadata": {},
   "outputs": [
    {
     "data": {
      "text/plain": [
       "0.30133663930688553"
      ]
     },
     "execution_count": 21,
     "metadata": {},
     "output_type": "execute_result"
    }
   ],
   "source": [
    "from sklearn.metrics import recall_score\n",
    "ypred = gd_clf.predict(X_test)\n",
    "recall_score(y_test, y_pred, average='macro')"
   ]
  },
  {
   "cell_type": "code",
   "execution_count": null,
   "metadata": {},
   "outputs": [],
   "source": [
    "knn=KNeighborsRegressor(14)\n",
    "knn.fit(X_train,y_train)\n",
    "pred6=knn.predict(X_test)\n",
    "df = pd.DataFrame({'Actual': y_test, 'Predicted': pred6})\n",
    "df6 = df.head(25)\n",
    "df6   \n",
    "\n",
    "print('Mean Squared Error:', mean_squared_error(y_test, pred6))\n",
    "print('R2_Score:',r2_score(y_test,pred6))\n",
    "print(\"Train scores: {}\".format(knn.score(X_train, y_train)))\n",
    "print(\"Test scores: {}\".format(knn.score(X_test, y_test)))\n",
    "\n",
    "Mean Squared Error: 39634845953.032906\n",
    "R2_Score: 0.6723713029558799\n",
    "Train scores: 0.7241357726275579\n",
    "Test scores: 0.6723713029558799"
   ]
  }
 ],
 "metadata": {
  "kernelspec": {
   "display_name": "Python 3",
   "language": "python",
   "name": "python3"
  },
  "language_info": {
   "codemirror_mode": {
    "name": "ipython",
    "version": 3
   },
   "file_extension": ".py",
   "mimetype": "text/x-python",
   "name": "python",
   "nbconvert_exporter": "python",
   "pygments_lexer": "ipython3",
   "version": "3.7.4"
  }
 },
 "nbformat": 4,
 "nbformat_minor": 2
}
