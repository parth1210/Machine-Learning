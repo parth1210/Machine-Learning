{
 "cells": [
  {
   "cell_type": "code",
   "execution_count": 14,
   "metadata": {},
   "outputs": [],
   "source": [
    "import numpy as np # linear algebra\n",
    "import pandas as pd # data processing, CSV file I/O (e.g. pd.read_csv)\n",
    "import seaborn as sns\n",
    "import matplotlib.pyplot as plt #matlab plots\n",
    "%matplotlib inline"
   ]
  },
  {
   "cell_type": "code",
   "execution_count": 15,
   "metadata": {},
   "outputs": [],
   "source": [
    "from sklearn.model_selection import train_test_split"
   ]
  },
  {
   "cell_type": "code",
   "execution_count": 16,
   "metadata": {},
   "outputs": [],
   "source": [
    "df= pd.read_csv(r'C:\\Users\\User\\Downloads\\part_a.csv')"
   ]
  },
  {
   "cell_type": "code",
   "execution_count": 44,
   "metadata": {},
   "outputs": [
    {
     "name": "stdout",
     "output_type": "stream",
     "text": [
      "<class 'pandas.core.frame.DataFrame'>\n",
      "RangeIndex: 395 entries, 0 to 394\n",
      "Data columns (total 44 columns):\n",
      "school               395 non-null int64\n",
      "sex                  395 non-null int64\n",
      "age                  395 non-null int64\n",
      "address              395 non-null int64\n",
      "famsize              395 non-null int64\n",
      "Pstatus              395 non-null int64\n",
      "Medu                 395 non-null int64\n",
      "Fedu                 395 non-null int64\n",
      "traveltime           395 non-null int64\n",
      "studytime            395 non-null int64\n",
      "failures             395 non-null int64\n",
      "schoolsup            395 non-null int64\n",
      "famsup               395 non-null int64\n",
      "paid                 395 non-null int64\n",
      "activities           395 non-null int64\n",
      "nursery              395 non-null int64\n",
      "higher               395 non-null int64\n",
      "internet             395 non-null int64\n",
      "romantic             395 non-null int64\n",
      "famrel               395 non-null int64\n",
      "freetime             395 non-null int64\n",
      "goout                395 non-null int64\n",
      "Dalc                 395 non-null int64\n",
      "Walc                 395 non-null int64\n",
      "health               395 non-null int64\n",
      "absences             395 non-null int64\n",
      "grade                395 non-null int64\n",
      "Mjob_at_home         395 non-null int64\n",
      "Mjob_health          395 non-null int64\n",
      "Mjob_other           395 non-null int64\n",
      "Mjob_services        395 non-null int64\n",
      "Mjob_teacher         395 non-null int64\n",
      "Fjob_at_home         395 non-null int64\n",
      "Fjob_health          395 non-null int64\n",
      "Fjob_other           395 non-null int64\n",
      "Fjob_services        395 non-null int64\n",
      "Fjob_teacher         395 non-null int64\n",
      "reason_course        395 non-null int64\n",
      "reason_home          395 non-null int64\n",
      "reason_other         395 non-null int64\n",
      "reason_reputation    395 non-null int64\n",
      "guardian_father      395 non-null int64\n",
      "guardian_mother      395 non-null int64\n",
      "guardian_other       395 non-null int64\n",
      "dtypes: int64(44)\n",
      "memory usage: 135.9 KB\n"
     ]
    }
   ],
   "source": [
    "df.info()"
   ]
  },
  {
   "cell_type": "code",
   "execution_count": 17,
   "metadata": {},
   "outputs": [],
   "source": [
    "X = df.drop(['grade'],axis=1, inplace=False)\n",
    "y = df['grade']"
   ]
  },
  {
   "cell_type": "code",
   "execution_count": 18,
   "metadata": {},
   "outputs": [
    {
     "name": "stdout",
     "output_type": "stream",
     "text": [
      "X_train shape is (296, 43)\n",
      "X_test shape is (99, 43)\n",
      "y_train shape is (296,)\n",
      "y_test shape is (99,)\n"
     ]
    }
   ],
   "source": [
    "from sklearn.model_selection import train_test_split\n",
    "\n",
    "X_train_org, X_test_org, y_train, y_test = train_test_split(X,y,random_state=0)\n",
    "print('X_train shape is', X_train_org.shape)\n",
    "print('X_test shape is', X_test_org.shape)\n",
    "print('y_train shape is', y_train.shape)\n",
    "print('y_test shape is', y_test.shape)"
   ]
  },
  {
   "cell_type": "code",
   "execution_count": 19,
   "metadata": {},
   "outputs": [],
   "source": [
    "from sklearn.preprocessing import MinMaxScaler\n",
    "\n",
    "scaler = MinMaxScaler()\n",
    "X_train = scaler.fit_transform(X_train_org)\n",
    "X_test = scaler.transform(X_test_org)\n"
   ]
  },
  {
   "cell_type": "code",
   "execution_count": 31,
   "metadata": {},
   "outputs": [
    {
     "data": {
      "text/plain": [
       "PCA(copy=True, iterated_power='auto', n_components=0.95, random_state=None,\n",
       "    svd_solver='auto', tol=0.0, whiten=False)"
      ]
     },
     "execution_count": 31,
     "metadata": {},
     "output_type": "execute_result"
    }
   ],
   "source": [
    "from sklearn.decomposition import PCA\n",
    "pca = PCA(0.95)\n",
    "pca.fit(X_train)"
   ]
  },
  {
   "cell_type": "code",
   "execution_count": 32,
   "metadata": {},
   "outputs": [
    {
     "data": {
      "text/plain": [
       "array([[-0.6930579 , -0.37481648,  0.11570407, ..., -0.19052327,\n",
       "        -0.02636375,  0.00906066],\n",
       "       [-0.64433026,  0.31112772, -0.4874042 , ..., -0.09030077,\n",
       "        -0.23513352,  0.20409792],\n",
       "       [ 0.26798135, -0.08652277,  0.41812877, ...,  0.82633796,\n",
       "        -0.01676565,  0.22882153],\n",
       "       ...,\n",
       "       [ 0.64494306, -0.05522859,  1.43014181, ...,  0.26982433,\n",
       "         0.17109186, -0.13760863],\n",
       "       [ 0.76876468, -0.10957234, -0.17106768, ..., -0.25480275,\n",
       "         0.31267635,  0.30133386],\n",
       "       [ 0.22181966, -0.54523984, -1.20386213, ..., -0.05043557,\n",
       "        -0.18839069, -0.03695297]])"
      ]
     },
     "execution_count": 32,
     "metadata": {},
     "output_type": "execute_result"
    }
   ],
   "source": [
    "pca.transform(X_train)"
   ]
  },
  {
   "cell_type": "code",
   "execution_count": 33,
   "metadata": {},
   "outputs": [
    {
     "data": {
      "text/plain": [
       "30"
      ]
     },
     "execution_count": 33,
     "metadata": {},
     "output_type": "execute_result"
    }
   ],
   "source": [
    "pca.n_components_ "
   ]
  },
  {
   "cell_type": "code",
   "execution_count": 27,
   "metadata": {},
   "outputs": [],
   "source": [
    "df['grade'] = df['grade'].map({4:1,2:1,3:1,1:0})"
   ]
  },
  {
   "cell_type": "code",
   "execution_count": 28,
   "metadata": {},
   "outputs": [],
   "source": [
    "from sklearn.model_selection import train_test_split\n",
    "\n",
    "X_train_org, X_test_org, y_train, y_test = train_test_split(X,y,random_state=0)"
   ]
  },
  {
   "cell_type": "code",
   "execution_count": 29,
   "metadata": {},
   "outputs": [
    {
     "name": "stdout",
     "output_type": "stream",
     "text": [
      "X_train shape is (296, 43)\n",
      "X_test shape is (99, 43)\n",
      "y_train shape is (296,)\n",
      "y_test shape is (99,)\n"
     ]
    }
   ],
   "source": [
    "print('X_train shape is', X_train_org.shape)\n",
    "print('X_test shape is', X_test_org.shape)\n",
    "print('y_train shape is', y_train.shape)\n",
    "print('y_test shape is', y_test.shape)"
   ]
  },
  {
   "cell_type": "code",
   "execution_count": 30,
   "metadata": {},
   "outputs": [],
   "source": [
    "from sklearn.preprocessing import MinMaxScaler\n",
    "\n",
    "scaler = MinMaxScaler()\n",
    "X_train = scaler.fit_transform(X_train_org)\n",
    "X_test = scaler.transform(X_test_org)\n"
   ]
  },
  {
   "cell_type": "code",
   "execution_count": 34,
   "metadata": {},
   "outputs": [],
   "source": [
    "X_train = pca.transform(X_train)\n",
    "X_test = pca.transform(X_test)"
   ]
  },
  {
   "cell_type": "code",
   "execution_count": 35,
   "metadata": {},
   "outputs": [],
   "source": [
    "from sklearn.svm import SVC\n",
    "svc_clf = SVC(random_state=0,kernel = 'rbf',C = 10,gamma=0.05)"
   ]
  },
  {
   "cell_type": "code",
   "execution_count": 37,
   "metadata": {},
   "outputs": [
    {
     "data": {
      "text/plain": [
       "SVC(C=10, cache_size=200, class_weight=None, coef0=0.0,\n",
       "    decision_function_shape='ovr', degree=3, gamma=0.05, kernel='rbf',\n",
       "    max_iter=-1, probability=False, random_state=0, shrinking=True, tol=0.001,\n",
       "    verbose=False)"
      ]
     },
     "execution_count": 37,
     "metadata": {},
     "output_type": "execute_result"
    }
   ],
   "source": [
    "svc_clf.fit(X_train, y_train)"
   ]
  },
  {
   "cell_type": "code",
   "execution_count": 40,
   "metadata": {},
   "outputs": [
    {
     "name": "stdout",
     "output_type": "stream",
     "text": [
      "Test scores: 0.8586\n"
     ]
    }
   ],
   "source": [
    "from sklearn.metrics import accuracy_score\n",
    "print(\"Test scores: {:.4f}\".format(svc_clf.score(X_test, y_test)))"
   ]
  },
  {
   "cell_type": "code",
   "execution_count": 42,
   "metadata": {},
   "outputs": [
    {
     "name": "stdout",
     "output_type": "stream",
     "text": [
      "Test scores: 0.6115\n"
     ]
    }
   ],
   "source": [
    "from sklearn.metrics import roc_auc_score\n",
    "y_pred = svc_clf.predict(X_test)\n",
    "print(\"Test scores: {:.4f}\".format(roc_auc_score(y_test, y_pred)))"
   ]
  },
  {
   "cell_type": "code",
   "execution_count": 43,
   "metadata": {},
   "outputs": [
    {
     "name": "stdout",
     "output_type": "stream",
     "text": [
      "Test scores: 0.5760\n"
     ]
    }
   ],
   "source": [
    "from sklearn.linear_model import LogisticRegression\n",
    "log_clf = LogisticRegression(C = 1,solver = 'liblinear',penalty = 'l2',random_state = 0)\n",
    "log_clf.fit(X_train, y_train)\n",
    "y_pred = log_clf.predict(X_test)\n",
    "print(\"Test scores: {:.4f}\".format(roc_auc_score(y_test, y_pred)))"
   ]
  }
 ],
 "metadata": {
  "kernelspec": {
   "display_name": "Python 3",
   "language": "python",
   "name": "python3"
  },
  "language_info": {
   "codemirror_mode": {
    "name": "ipython",
    "version": 3
   },
   "file_extension": ".py",
   "mimetype": "text/x-python",
   "name": "python",
   "nbconvert_exporter": "python",
   "pygments_lexer": "ipython3",
   "version": "3.7.4"
  }
 },
 "nbformat": 4,
 "nbformat_minor": 2
}
