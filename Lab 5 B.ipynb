{
 "cells": [
  {
   "cell_type": "code",
   "execution_count": 1,
   "metadata": {},
   "outputs": [],
   "source": [
    "import numpy as np # linear algebra\n",
    "import pandas as pd # data processing, CSV file I/O (e.g. pd.read_csv)\n",
    "import seaborn as sns\n",
    "import matplotlib.pyplot as plt #matlab plots\n",
    "%matplotlib inline\n"
   ]
  },
  {
   "cell_type": "code",
   "execution_count": 2,
   "metadata": {},
   "outputs": [],
   "source": [
    "df= pd.read_csv(r'C:\\Users\\User\\Downloads\\part_b.csv')"
   ]
  },
  {
   "cell_type": "code",
   "execution_count": 3,
   "metadata": {},
   "outputs": [
    {
     "name": "stdout",
     "output_type": "stream",
     "text": [
      "<class 'pandas.core.frame.DataFrame'>\n",
      "RangeIndex: 126 entries, 0 to 125\n",
      "Data columns (total 27 columns):\n",
      "Serving Size (g)                        126 non-null int64\n",
      "Calories                                126 non-null int64\n",
      "Total Fat (g)                           126 non-null float64\n",
      "Saturated Fat (g)                       126 non-null float64\n",
      "Trans Fat (g)                           126 non-null float64\n",
      "Sodium (mg)                             126 non-null float64\n",
      "Carbs (g)                               126 non-null float64\n",
      "Sugars (g)                              126 non-null float64\n",
      "Protein (g)                             126 non-null float64\n",
      "Fast Food Restaurant_Burger King        126 non-null int64\n",
      "Fast Food Restaurant_Carl's Jr.         126 non-null int64\n",
      "Fast Food Restaurant_Chick-fil-A        126 non-null int64\n",
      "Fast Food Restaurant_Dairy Queen        126 non-null int64\n",
      "Fast Food Restaurant_Hardee's           126 non-null int64\n",
      "Fast Food Restaurant_In-N-Out Burger    126 non-null int64\n",
      "Fast Food Restaurant_Jack in the Box    126 non-null int64\n",
      "Fast Food Restaurant_McDonald's         126 non-null int64\n",
      "Fast Food Restaurant_Sonic              126 non-null int64\n",
      "Fast Food Restaurant_Wendy's            126 non-null int64\n",
      "Fast Food Restaurant_Whataburger        126 non-null int64\n",
      "Fast Food Restaurant_White Castle       126 non-null int64\n",
      "Type_Breaded Chicken Sandwich           126 non-null int64\n",
      "Type_Burger                             126 non-null int64\n",
      "Type_Chicken Nuggets                    126 non-null int64\n",
      "Type_French Fries                       126 non-null int64\n",
      "Type_Grilled Chicken Sandwich           126 non-null int64\n",
      "Type_Milkshake                          126 non-null int64\n",
      "dtypes: float64(7), int64(20)\n",
      "memory usage: 26.7 KB\n"
     ]
    }
   ],
   "source": [
    "df.info()"
   ]
  },
  {
   "cell_type": "code",
   "execution_count": 5,
   "metadata": {},
   "outputs": [],
   "source": [
    "X = df.drop(['Calories'],axis=1, inplace=False)\n",
    "y = df['Calories']"
   ]
  },
  {
   "cell_type": "code",
   "execution_count": 6,
   "metadata": {},
   "outputs": [],
   "source": [
    "from sklearn.model_selection import train_test_split\n",
    "\n",
    "X_train_org, X_test_org, y_train, y_test = train_test_split(X,y,random_state=0)"
   ]
  },
  {
   "cell_type": "code",
   "execution_count": 7,
   "metadata": {},
   "outputs": [
    {
     "name": "stdout",
     "output_type": "stream",
     "text": [
      "X_train shape is (94, 26)\n",
      "X_test shape is (32, 26)\n",
      "y_train shape is (94,)\n",
      "y_test shape is (32,)\n"
     ]
    }
   ],
   "source": [
    "print('X_train shape is', X_train_org.shape)\n",
    "print('X_test shape is', X_test_org.shape)\n",
    "print('y_train shape is', y_train.shape)\n",
    "print('y_test shape is', y_test.shape)"
   ]
  },
  {
   "cell_type": "code",
   "execution_count": 8,
   "metadata": {},
   "outputs": [],
   "source": [
    "from sklearn.preprocessing import StandardScaler\n",
    "scaler = StandardScaler()\n",
    "X_train = scaler.fit_transform(X_train_org)\n",
    "X_test = scaler.transform(X_test_org)\n"
   ]
  },
  {
   "cell_type": "code",
   "execution_count": 9,
   "metadata": {},
   "outputs": [
    {
     "name": "stdout",
     "output_type": "stream",
     "text": [
      "{'C': 100}\n"
     ]
    }
   ],
   "source": [
    "from sklearn.model_selection import GridSearchCV\n",
    "from sklearn.svm import LinearSVR\n",
    "from sklearn.svm import SVR\n",
    "\n",
    "\n",
    "param_grid = { 'C': [0.01, 0.1, 1, 10, 100, 1000]}    \n",
    "LinearSVR_model=LinearSVR(random_state=0,max_iter=100000)    \n",
    "SVR_gscv = GridSearchCV(LinearSVR_model, param_grid, cv=5,iid= False)   \n",
    "SVR_gscv.fit(X_train,y_train)\n",
    "y_pred = SVR_gscv.predict(X_test)\n",
    "print(SVR_gscv.best_params_)\n",
    "                   "
   ]
  },
  {
   "cell_type": "code",
   "execution_count": 10,
   "metadata": {},
   "outputs": [
    {
     "name": "stdout",
     "output_type": "stream",
     "text": [
      "\n",
      " The best parameters across ALL searched params:\n",
      " {'max_features': 10, 'max_samples': 0.5, 'n_estimators': 100}\n"
     ]
    }
   ],
   "source": [
    "from sklearn.tree import DecisionTreeRegressor\n",
    "from sklearn.model_selection import GridSearchCV\n",
    "from sklearn.ensemble import GradientBoostingRegressor\n",
    "from sklearn.ensemble import BaggingRegressor\n",
    "param_grid = {\n",
    "    'max_features': [2, 5, 10],\n",
    "    'max_samples':[0.1, 0.5, 1],\n",
    "    'n_estimators':[100, 200, 300, 500]\n",
    "}\n",
    "\n",
    "clf = GridSearchCV(BaggingRegressor(DecisionTreeRegressor(max_depth = 5)),param_grid,return_train_score=True,iid=False,cv=5)\n",
    "clf.fit(X_train, y_train)\n",
    "print(\"\\n The best parameters across ALL searched params:\\n\",\n",
    "          clf.best_params_)\n"
   ]
  },
  {
   "cell_type": "code",
   "execution_count": 25,
   "metadata": {},
   "outputs": [
    {
     "name": "stdout",
     "output_type": "stream",
     "text": [
      "Train score: 0.9381\n",
      "Test scores: 0.8876\n"
     ]
    }
   ],
   "source": [
    "print('Train score: {:.4f}'.format(clf.score(X_train, y_train)))\n",
    "print(\"Test scores: {:.4f}\".format(clf.score(X_test, y_test)))"
   ]
  },
  {
   "cell_type": "code",
   "execution_count": 11,
   "metadata": {},
   "outputs": [
    {
     "data": {
      "text/plain": [
       "GridSearchCV(cv=5, error_score='raise-deprecating',\n",
       "             estimator=GradientBoostingRegressor(alpha=0.9,\n",
       "                                                 criterion='friedman_mse',\n",
       "                                                 init=None, learning_rate=0.1,\n",
       "                                                 loss='ls', max_depth=3,\n",
       "                                                 max_features=None,\n",
       "                                                 max_leaf_nodes=None,\n",
       "                                                 min_impurity_decrease=0.0,\n",
       "                                                 min_impurity_split=None,\n",
       "                                                 min_samples_leaf=1,\n",
       "                                                 min_samples_split=2,\n",
       "                                                 min_weight_fraction_leaf=0.0,\n",
       "                                                 n_estimators=100,\n",
       "                                                 n_iter_no_change=None,\n",
       "                                                 presort='auto', random_state=0,\n",
       "                                                 subsample=1.0, tol=0.0001,\n",
       "                                                 validation_fraction=0.1,\n",
       "                                                 verbose=0, warm_start=False),\n",
       "             iid=False, n_jobs=None,\n",
       "             param_grid={'max_depth': [1, 5, 10], 'max_features': [2, 5, 10],\n",
       "                         'n_estimators': [50, 100, 200]},\n",
       "             pre_dispatch='2*n_jobs', refit=True, return_train_score=False,\n",
       "             scoring=None, verbose=0)"
      ]
     },
     "execution_count": 11,
     "metadata": {},
     "output_type": "execute_result"
    }
   ],
   "source": [
    "from sklearn.ensemble import GradientBoostingRegressor\n",
    "param_grid = {\n",
    "'n_estimators':[50, 100, 200],\n",
    "'max_depth':[1, 5, 10],\n",
    "'max_features':[2, 5, 10]\n",
    "}\n",
    "\n",
    "gd_clf = GridSearchCV(GradientBoostingRegressor(random_state=0),param_grid,iid=False,cv=5)\n",
    "gd_clf.fit(X_train, y_train)"
   ]
  },
  {
   "cell_type": "code",
   "execution_count": 12,
   "metadata": {},
   "outputs": [
    {
     "name": "stdout",
     "output_type": "stream",
     "text": [
      "\n",
      " The best parameters across ALL searched params:\n",
      " {'max_depth': 1, 'max_features': 10, 'n_estimators': 200}\n",
      "\n",
      " The best parameters across ALL searched params:\n",
      " 0.8695432117604656\n"
     ]
    }
   ],
   "source": [
    "print(\"\\n The best parameters across ALL searched params:\\n\",\n",
    "          gd_clf.best_params_)\n",
    "print(\"\\n The best parameters across ALL searched params:\\n\",\n",
    "          gd_clf.best_score_)"
   ]
  },
  {
   "cell_type": "code",
   "execution_count": 23,
   "metadata": {},
   "outputs": [
    {
     "name": "stdout",
     "output_type": "stream",
     "text": [
      "Mean Squared Error: 4164.9887\n"
     ]
    }
   ],
   "source": [
    "from sklearn.metrics import mean_squared_error\n",
    "grd_b = GradientBoostingRegressor(max_depth=1,max_features=10,n_estimators=200,random_state=0)\n",
    "grd_b.fit(X_train, y_train)\n",
    "pred2 = grd_b.predict(X_test)\n",
    "print('Mean Squared Error: {:.4f}'.format(mean_squared_error(y_test, pred2)))"
   ]
  }
 ],
 "metadata": {
  "kernelspec": {
   "display_name": "Python 3",
   "language": "python",
   "name": "python3"
  },
  "language_info": {
   "codemirror_mode": {
    "name": "ipython",
    "version": 3
   },
   "file_extension": ".py",
   "mimetype": "text/x-python",
   "name": "python",
   "nbconvert_exporter": "python",
   "pygments_lexer": "ipython3",
   "version": "3.7.4"
  }
 },
 "nbformat": 4,
 "nbformat_minor": 2
}
